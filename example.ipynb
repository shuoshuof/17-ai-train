{
 "cells": [
  {
   "attachments": {},
   "cell_type": "markdown",
   "metadata": {},
   "source": [
    "# 训练"
   ]
  },
  {
   "cell_type": "code",
   "execution_count": 1,
   "metadata": {},
   "outputs": [],
   "source": [
    "from tensorflow import keras"
   ]
  },
  {
   "attachments": {},
   "cell_type": "markdown",
   "metadata": {},
   "source": [
    "## 定义网络"
   ]
  },
  {
   "cell_type": "code",
   "execution_count": 47,
   "metadata": {},
   "outputs": [],
   "source": [
    "def Mobilenet_v2(input_size,weights,Dropout_rate,Trainable,alpha = 0.35):\n",
    "    base_model = keras.applications.MobileNetV2(\n",
    "        input_shape=(input_size, input_size, 3),\n",
    "        alpha=alpha,\n",
    "        weights=weights,\n",
    "        include_top=False\n",
    "    )\n",
    "    inputs = keras.Input(shape=(input_size, input_size,3))\n",
    "\n",
    "    scale_layer = keras.layers.Rescaling(scale=1 / 127.5, offset=-1)\n",
    "    x = scale_layer(inputs)\n",
    "    x = base_model(x, training=False)\n",
    "    if Trainable:\n",
    "        base_model.trainable =True\n",
    "    else:\n",
    "        base_model.trainable = False\n",
    "        print(\"特征层已冻结\")\n",
    "    x = keras.layers.GlobalAveragePooling2D()(x)\n",
    "    x = keras.layers.Dropout(Dropout_rate, name='Dropout')(x)\n",
    "    outputs = keras.layers.Dense(15, activation='softmax')(x)\n",
    "    model = keras.Model(inputs, outputs)\n",
    "    return model"
   ]
  },
  {
   "attachments": {},
   "cell_type": "markdown",
   "metadata": {},
   "source": [
    "## 设定超参数"
   ]
  },
  {
   "cell_type": "code",
   "execution_count": 3,
   "metadata": {},
   "outputs": [],
   "source": [
    "epochs = 100\n",
    "input_size=128\n",
    "lr =1e-4\n",
    "Dropout_rate=0.3\n",
    "batch_size =128"
   ]
  },
  {
   "cell_type": "code",
   "execution_count": 4,
   "metadata": {},
   "outputs": [
    {
     "name": "stdout",
     "output_type": "stream",
     "text": [
      "Model: \"model\"\n",
      "_________________________________________________________________\n",
      " Layer (type)                Output Shape              Param #   \n",
      "=================================================================\n",
      " input_2 (InputLayer)        [(None, 128, 128, 3)]     0         \n",
      "                                                                 \n",
      " rescaling (Rescaling)       (None, 128, 128, 3)       0         \n",
      "                                                                 \n",
      " mobilenetv2_0.35_128 (Funct  (None, 4, 4, 1280)       410208    \n",
      " ional)                                                          \n",
      "                                                                 \n",
      " global_average_pooling2d (G  (None, 1280)             0         \n",
      " lobalAveragePooling2D)                                          \n",
      "                                                                 \n",
      " Dropout (Dropout)           (None, 1280)              0         \n",
      "                                                                 \n",
      " dense (Dense)               (None, 15)                19215     \n",
      "                                                                 \n",
      "=================================================================\n",
      "Total params: 429,423\n",
      "Trainable params: 415,343\n",
      "Non-trainable params: 14,080\n",
      "_________________________________________________________________\n"
     ]
    }
   ],
   "source": [
    "model = Mobilenet_v2(input_size,weights='imagenet',Dropout_rate=Dropout_rate,Trainable=True)\n",
    "model.summary()"
   ]
  },
  {
   "attachments": {},
   "cell_type": "markdown",
   "metadata": {},
   "source": [
    "## 读取数据集\n",
    "+ 这里仅进行简单的增强\n",
    "+ 这里的验证集是从训练集中划分的，实际训练最好有独立的验证集。"
   ]
  },
  {
   "cell_type": "code",
   "execution_count": 5,
   "metadata": {},
   "outputs": [
    {
     "name": "stdout",
     "output_type": "stream",
     "text": [
      "Found 1903 images belonging to 15 classes.\n",
      "Found 466 images belonging to 15 classes.\n",
      "{'大客车': 0, '小汽车': 1, '榴莲': 2, '橙子': 3, '火车': 4, '牛': 5, '狗': 6, '猪': 7, '猫': 8, '苹果': 9, '葡萄': 10, '轮船': 11, '飞机': 12, '香蕉': 13, '马': 14}\n"
     ]
    }
   ],
   "source": [
    "from tensorflow.keras.preprocessing.image import ImageDataGenerator\n",
    "\n",
    "train_root = \"./train/\"\n",
    "\n",
    "train_generator = ImageDataGenerator(rotation_range=360,\n",
    "                                     zoom_range  =0.2,\n",
    "                                     horizontal_flip = True,\n",
    "                                     validation_split =0.2\n",
    "                                     )\n",
    "train_dataset = train_generator.flow_from_directory(batch_size=batch_size,\n",
    "                                                    directory=train_root,\n",
    "                                                    shuffle=True,\n",
    "                                                    target_size=(input_size,input_size),\n",
    "                                                    subset='training')\n",
    "valid_dataset = train_generator.flow_from_directory(batch_size=batch_size,\n",
    "                                                   directory=train_root,\n",
    "                                                    shuffle=True,\n",
    "                                                    target_size=(input_size,input_size),\n",
    "                                                    subset='validation')\n",
    "print(train_dataset.class_indices)"
   ]
  },
  {
   "cell_type": "code",
   "execution_count": 6,
   "metadata": {},
   "outputs": [],
   "source": [
    "model.compile(optimizer=keras.optimizers.Adam(learning_rate=lr),\n",
    "              loss=keras.losses.CategoricalCrossentropy(),\n",
    "              metrics=[\"accuracy\"])\n"
   ]
  },
  {
   "attachments": {},
   "cell_type": "markdown",
   "metadata": {},
   "source": [
    "## 开始训练\n",
    "建立三个回调，学习率降低，早停，权重保存。"
   ]
  },
  {
   "cell_type": "code",
   "execution_count": 8,
   "metadata": {},
   "outputs": [
    {
     "name": "stdout",
     "output_type": "stream",
     "text": [
      "Epoch 1/5\n",
      "15/15 [==============================] - 7s 491ms/step - loss: 2.4283 - accuracy: 0.2533 - val_loss: 1.7722 - val_accuracy: 0.4614 - lr: 1.0000e-04\n",
      "Epoch 2/5\n",
      "15/15 [==============================] - 7s 439ms/step - loss: 1.4472 - accuracy: 0.5428 - val_loss: 1.0559 - val_accuracy: 0.6652 - lr: 1.0000e-04\n",
      "Epoch 3/5\n",
      "15/15 [==============================] - 7s 434ms/step - loss: 0.9432 - accuracy: 0.6821 - val_loss: 0.8471 - val_accuracy: 0.7039 - lr: 1.0000e-04\n",
      "Epoch 4/5\n",
      "15/15 [==============================] - 7s 444ms/step - loss: 0.7343 - accuracy: 0.7441 - val_loss: 0.7182 - val_accuracy: 0.7511 - lr: 1.0000e-04\n",
      "Epoch 5/5\n",
      "15/15 [==============================] - 7s 443ms/step - loss: 0.6211 - accuracy: 0.7819 - val_loss: 0.6115 - val_accuracy: 0.7961 - lr: 1.0000e-04\n"
     ]
    }
   ],
   "source": [
    "\n",
    "import time\n",
    "import os\n",
    "save_path = './models_save/%s' % (time.strftime('%Y_%m_%d_%H_%M_%S'))\n",
    "\n",
    "reduce_lr = keras.callbacks.ReduceLROnPlateau(monitor='val_loss', factor=0.2,patience=10,verbose=1)\n",
    "early_stop =keras.callbacks.EarlyStopping(monitor='val_accuracy', patience=10,verbose=1)\n",
    "save_weights = keras.callbacks.ModelCheckpoint(save_path + \"/model_{epoch:02d}_{val_accuracy:.4f}.h5\",\n",
    "                                                   save_best_only=True, monitor='val_accuracy')\n",
    "hist = model.fit(train_dataset, \n",
    "                 epochs=epochs,\n",
    "                 validation_data=valid_dataset,\n",
    "                  callbacks=[save_weights,early_stop,reduce_lr]\n",
    "                 )"
   ]
  },
  {
   "attachments": {},
   "cell_type": "markdown",
   "metadata": {},
   "source": [
    "## 可视化"
   ]
  },
  {
   "cell_type": "code",
   "execution_count": 10,
   "metadata": {},
   "outputs": [
    {
     "data": {
      "image/png": "[encoded data removed]",
      "text/plain": [
       "<Figure size 640x480 with 1 Axes>"
      ]
     },
     "metadata": {},
     "output_type": "display_data"
    },
    {
     "data": {
      "image/png": "[encoded data removed]",
      "text/plain": [
       "<Figure size 640x480 with 1 Axes>"
      ]
     },
     "metadata": {},
     "output_type": "display_data"
    }
   ],
   "source": [
    "import matplotlib.pyplot as plt\n",
    "import pandas as pd\n",
    "plt.figure()\n",
    "plt.plot(hist.history['accuracy'])\n",
    "plt.plot(hist.history['val_accuracy'])\n",
    "plt.title('Model accuracy')\n",
    "plt.ylabel('Accuracy')\n",
    "plt.xlabel('Epoch')\n",
    "plt.legend(['Train', 'Test'], loc='upper left')\n",
    "plt.savefig(f'{save_path}/acc')\n",
    "\n",
    "# 绘制训练 & 验证的损失值\n",
    "plt.figure()\n",
    "plt.plot(hist.history['loss'])\n",
    "plt.plot(hist.history['val_loss'])\n",
    "plt.title('Model loss')\n",
    "plt.ylabel('Loss')\n",
    "plt.xlabel('Epoch')\n",
    "plt.legend(['Train', 'Test'], loc='upper left')\n",
    "plt.savefig(f'{save_path}/loss')\n",
    "\n",
    "df = pd.DataFrame.from_dict(hist.history)\n",
    "df.to_csv(f'{save_path}/hist.csv', encoding='utf-8', index=False)"
   ]
  },
  {
   "attachments": {},
   "cell_type": "markdown",
   "metadata": {},
   "source": [
    "## 绘制混淆矩阵"
   ]
  },
  {
   "cell_type": "code",
   "execution_count": 9,
   "metadata": {},
   "outputs": [],
   "source": [
    "import matplotlib.pyplot as plt\n",
    "from sklearn.metrics import confusion_matrix\n",
    "import numpy as np\n",
    "import matplotlib\n",
    "font = {'family': 'SimHei', \"size\": 24}\n",
    "matplotlib.rc('font', **font)\n",
    "\n",
    "def get_confusion_matrix(label,y_pred,cls):\n",
    "    Confusion_Matrix = confusion_matrix(label, y_pred)\n",
    "    cls_sum = Confusion_Matrix.sum(axis=0)\n",
    "    Confusion_Matrix = Confusion_Matrix/cls_sum#归一化\n",
    "    print(np.around(Confusion_Matrix,3))\n",
    "    Confusion_Matrix=Confusion_Matrix*255\n",
    "    plt.matshow(Confusion_Matrix, cmap=plt.cm.Greens)\n",
    "    plt.xlabel('predict')\n",
    "    plt.ylabel('true')\n",
    "    xlocations = np.array(range(len(cls)))\n",
    "    print(cls)\n",
    "    print(xlocations)\n",
    "    plt.xticks(xlocations, cls, rotation=0)\n",
    "    plt.yticks(xlocations, cls)\n",
    "    plt.show()"
   ]
  },
  {
   "attachments": {},
   "cell_type": "markdown",
   "metadata": {},
   "source": [
    "# 量化"
   ]
  },
  {
   "attachments": {},
   "cell_type": "markdown",
   "metadata": {},
   "source": [
    "## 测试"
   ]
  },
  {
   "cell_type": "code",
   "execution_count": 40,
   "metadata": {},
   "outputs": [],
   "source": [
    "import tensorflow as tf\n",
    "from tqdm import tqdm\n",
    "import numpy as np\n",
    "from tensorflow.keras.preprocessing.image import ImageDataGenerator\n",
    "def tflite_pre(modelpath,dataset_root,batch_size=128,input_size = 96):\n",
    "    test_root = dataset_root\n",
    "\n",
    "    valid_generator = ImageDataGenerator()\n",
    "    valid_dataset = valid_generator.flow_from_directory(batch_size=batch_size,\n",
    "                                                        directory=test_root,\n",
    "                                                        shuffle=True,\n",
    "                                                        target_size=(input_size, input_size))\n",
    "    interpreter = tf.lite.Interpreter(model_path=modelpath)\n",
    "\n",
    "    input_index = interpreter.get_input_details()\n",
    "    output_index = interpreter.get_output_details()\n",
    "\n",
    "    acc=0\n",
    "    sum=0\n",
    "    labels=np.array([])\n",
    "    predictions=np.array([])\n",
    "    with tqdm(valid_dataset,desc='test_tflite') as d:\n",
    "        for batch_number, (img, label) in enumerate(d):\n",
    "            batch = len(label)\n",
    "            label = label.argmax(axis=1)\n",
    "            sum += batch\n",
    "            interpreter.resize_tensor_input(input_index[0]['index'], (batch, input_size, input_size, 3))\n",
    "            interpreter.resize_tensor_input(output_index[0]['index'], (batch, 15))\n",
    "            interpreter.allocate_tensors()\n",
    "            interpreter.set_tensor(input_index[0]['index'], np.array(img, dtype=np.float32))\n",
    "            interpreter.invoke()\n",
    "            output = interpreter.get_tensor(output_index[0]['index'])\n",
    "            output = output.argmax(axis=1)\n",
    "            correct_pre = np.where(output == label, 1, 0)\n",
    "            acc += correct_pre.sum()\n",
    "\n",
    "            predictions =np.append(predictions,output)\n",
    "            labels=np.append(labels,label)\n",
    "\n",
    "            if sum >= len(valid_dataset) * batch_size:\n",
    "                break\n",
    "            d.set_postfix(acc = acc/sum)\n",
    "            d.update()\n",
    "    print(\"小类准确率：\", acc / sum)\n",
    "    get_confusion_matrix(labels,predictions,valid_dataset.class_indices)\n",
    "    return acc/sum"
   ]
  },
  {
   "attachments": {},
   "cell_type": "markdown",
   "metadata": {},
   "source": [
    "## 量化"
   ]
  },
  {
   "cell_type": "code",
   "execution_count": 41,
   "metadata": {},
   "outputs": [],
   "source": [
    "from tensorflow.keras.models import load_model\n",
    "import json\n",
    "import time\n",
    "import os\n",
    "def convert_to_tf_lite(model_path,valid_input_size,valid_path=None):\n",
    "    model = load_model(model_path)\n",
    "\n",
    "    converter = tf.lite.TFLiteConverter.from_keras_model(model)\n",
    "    converter.post_training_quantize=True\n",
    "    tflite_model = converter.convert()\n",
    "\n",
    "    start_time = time.strftime('%m_%d_%H_%M')\n",
    "    name = model_path.split('/')[-1][:-3]\n",
    "\n",
    "    save_root = \"./tflite_model/%s_\" % start_time +'_' + name\n",
    "    os.mkdir(save_root)\n",
    "\n",
    "    save_path = save_root+\"/\"+str(valid_input_size)+name+'.tflite'\n",
    "\n",
    "    with open(save_path, 'wb') as f:\n",
    "        f.write(tflite_model)\n",
    "    if valid_path!=None:\n",
    "        acc = tflite_pre(modelpath=save_path,\n",
    "                         dataset_root=valid_path,\n",
    "                         input_size=valid_input_size)\n",
    "        remark = {'model_path':model_path,'input_size':valid_input_size,'valid_path':valid_path,'acc':acc}\n",
    "        with open(save_root+\"/remark.json\",'w',encoding='utf-8') as f:\n",
    "            json.dump(remark,f)"
   ]
  },
  {
   "cell_type": "code",
   "execution_count": null,
   "metadata": {},
   "outputs": [],
   "source": [
    "convert_to_tf_lite(model_path='./models_save/2023_01_03_18_11_12/model_27_0.8948.h5',\n",
    "                   valid_input_size=input_size,\n",
    "                   valid_path='./train')"
   ]
  },
  {
   "attachments": {},
   "cell_type": "markdown",
   "metadata": {},
   "source": [
    "# 超参搜索"
   ]
  },
  {
   "attachments": {},
   "cell_type": "markdown",
   "metadata": {},
   "source": [
    "## 简单例子\n",
    "先来个简单的例子"
   ]
  },
  {
   "attachments": {},
   "cell_type": "markdown",
   "metadata": {},
   "source": [
    "### 定义超模型"
   ]
  },
  {
   "cell_type": "code",
   "execution_count": 1,
   "metadata": {},
   "outputs": [],
   "source": [
    "from tensorflow import keras\n",
    "import keras_tuner\n",
    "\n",
    "class HyperModel(keras_tuner.HyperModel):\n",
    "    def model(self,units,num_layers,lr):\n",
    "        model = keras.Sequential()\n",
    "        model.add(keras.layers.Rescaling(scale=1 / 127.5, offset=-1))\n",
    "        model.add(keras.layers.Flatten())\n",
    "        for i in range(num_layers):\n",
    "            model.add(keras.layers.Dense(units, activation='relu'))\n",
    "        model.add(keras.layers.Dropout(rate=0.3))\n",
    "        model.add(keras.layers.Dense(10, activation=\"softmax\"))\n",
    "        model.compile(\n",
    "            optimizer=keras.optimizers.Adam(learning_rate=lr),\n",
    "            loss=\"categorical_crossentropy\",\n",
    "            metrics=[\"accuracy\"],\n",
    "        )\n",
    "        return model\n",
    "    def build(self, hp):\n",
    "\n",
    "        units = hp.Int(\"units\", min_value=64, max_value=256, step=32)\n",
    "        num_layers = hp.Int(\"num_layers\",min_value=1,max_value=3)\n",
    "        lr = hp.Float(\"lr\",min_value=1e-5,max_value=1e-3,sampling=\"log\")\n",
    "\n",
    "        return self.model(units,num_layers,lr) \n",
    "    def fit(self, hp, model, x_train,y_train, **kwargs):\n",
    "        return model.fit(\n",
    "            x_train,\n",
    "            y_train,\n",
    "            **kwargs\n",
    "        )"
   ]
  },
  {
   "attachments": {},
   "cell_type": "markdown",
   "metadata": {},
   "source": [
    "### 利用mnist测试"
   ]
  },
  {
   "cell_type": "code",
   "execution_count": 2,
   "metadata": {},
   "outputs": [],
   "source": [
    "from tensorflow import keras\n",
    "import numpy as np\n",
    "\n",
    "(x, y), (x_test, y_test) = keras.datasets.mnist.load_data()\n",
    "\n",
    "x = np.expand_dims(x,axis=-1)\n",
    "x_test = np.expand_dims(x_test,axis=-1)\n",
    "\n",
    "num_classes =10\n",
    "y = keras.utils.to_categorical(y, num_classes)\n",
    "y_test = keras.utils.to_categorical(y_test,num_classes)\n"
   ]
  },
  {
   "cell_type": "code",
   "execution_count": 33,
   "metadata": {},
   "outputs": [],
   "source": [
    "tuner = keras_tuner.RandomSearch(\n",
    "    HyperModel(),\n",
    "    objective=\"val_accuracy\",\n",
    "    max_trials=10,\n",
    "    overwrite=True,\n",
    "    directory=\"my_dir\",\n",
    "    project_name=\"tune_hypermodel\",\n",
    ")"
   ]
  },
  {
   "cell_type": "code",
   "execution_count": 34,
   "metadata": {},
   "outputs": [
    {
     "name": "stdout",
     "output_type": "stream",
     "text": [
      "Trial 10 Complete [00h 00m 04s]\n",
      "val_accuracy: 0.9144999980926514\n",
      "\n",
      "Best val_accuracy So Far: 0.9641000032424927\n",
      "Total elapsed time: 00h 00m 38s\n",
      "INFO:tensorflow:Oracle triggered exit\n"
     ]
    }
   ],
   "source": [
    "tuner.search(x,y,epochs=2,batch_size=128,validation_data=(x_test, y_test),workers =8)"
   ]
  },
  {
   "cell_type": "code",
   "execution_count": null,
   "metadata": {},
   "outputs": [],
   "source": [
    "tuner.results_summary()\n"
   ]
  },
  {
   "cell_type": "code",
   "execution_count": null,
   "metadata": {},
   "outputs": [],
   "source": [
    "hypermodel = HyperModel()\n",
    "best_hp = tuner.get_best_hyperparameters()[0]\n",
    "model = hypermodel.build(best_hp)\n",
    "hypermodel.fit(best_hp, model, x, y, epochs=20,batch_size=128,validation_data=(x_test, y_test),workers =8)"
   ]
  },
  {
   "cell_type": "code",
   "execution_count": 37,
   "metadata": {},
   "outputs": [],
   "source": [
    "model.save('demo_hypermodel.h5')"
   ]
  },
  {
   "cell_type": "code",
   "execution_count": 38,
   "metadata": {},
   "outputs": [
    {
     "name": "stdout",
     "output_type": "stream",
     "text": [
      "79/79 [==============================] - 0s 4ms/step - loss: 0.0770 - accuracy: 0.9808\n"
     ]
    },
    {
     "data": {
      "text/plain": [
       "[0.07700708508491516, 0.9807999730110168]"
      ]
     },
     "execution_count": 38,
     "metadata": {},
     "output_type": "execute_result"
    }
   ],
   "source": [
    "from tensorflow.keras.models import load_model\n",
    "model = load_model('demo_hypermodel.h5')\n",
    "model.evaluate(\n",
    "    x_test,\n",
    "    y_test,\n",
    "    batch_size=128,\n",
    ")"
   ]
  },
  {
   "attachments": {},
   "cell_type": "markdown",
   "metadata": {},
   "source": [
    "## 超·MobileNetV2\n",
    "正式开始"
   ]
  },
  {
   "cell_type": "code",
   "execution_count": 3,
   "metadata": {},
   "outputs": [],
   "source": [
    "def Mobilenet_v2(input_size,weights,Dropout_rate,Trainable,alpha = 0.35):\n",
    "    base_model = keras.applications.MobileNetV2(\n",
    "        input_shape=(input_size, input_size, 3),\n",
    "        alpha=alpha,\n",
    "        weights=weights,\n",
    "        include_top=False\n",
    "    )\n",
    "    inputs = keras.Input(shape=(input_size, input_size,3))\n",
    "\n",
    "    scale_layer = keras.layers.Rescaling(scale=1 / 127.5, offset=-1)\n",
    "    x = scale_layer(inputs)\n",
    "    x = base_model(x, training=False)\n",
    "    if Trainable:\n",
    "        base_model.trainable =True\n",
    "    else:\n",
    "        base_model.trainable = False\n",
    "        print(\"特征层已冻结\")\n",
    "    x = keras.layers.GlobalAveragePooling2D()(x)\n",
    "    x = keras.layers.Dropout(Dropout_rate, name='Dropout')(x)\n",
    "    outputs = keras.layers.Dense(15, activation='softmax')(x)\n",
    "    model = keras.Model(inputs, outputs)\n",
    "    return model"
   ]
  },
  {
   "cell_type": "code",
   "execution_count": 16,
   "metadata": {},
   "outputs": [],
   "source": [
    "from tensorflow.keras.preprocessing.image import ImageDataGenerator\n",
    "class HyperMobilenet_v2(keras_tuner.HyperModel):\n",
    "    def __init__(self,input_size,batch_size,train_root):\n",
    "        super(keras_tuner.HyperModel, self).__init__()\n",
    "        self.input_size = input_size\n",
    "        self.batch_size = batch_size\n",
    "        self.train_root = train_root\n",
    "    def model(self,Dropout_rate,lr):\n",
    "        model = Mobilenet_v2(\n",
    "            input_size=self.input_size,\n",
    "            weights='imagenet',\n",
    "            Dropout_rate=Dropout_rate,\n",
    "            Trainable=True\n",
    "        )\n",
    "        model.compile(optimizer=keras.optimizers.Adam(learning_rate=lr),\n",
    "                    loss=keras.losses.CategoricalCrossentropy(),\n",
    "                    metrics=[\"accuracy\"])\n",
    "        return model\n",
    "    def build(self, hp):\n",
    "        lr = hp.Float(\"lr\",min_value=1e-5,max_value=1e-3,sampling=\"log\")\n",
    "        Dropout_rate = hp.Choice(\"Dropout_rate\",values =[0.1,0.2,0.3,0.4,0.5,0.6])\n",
    "        return self.model(Dropout_rate,lr) \n",
    "    \n",
    "    def dataset(self, hp):\n",
    "\n",
    "        train_root = self.train_root\n",
    "\n",
    "        zoom_range = hp.Float(\"zoom_range\",min_value=0.1,max_value=0.3,sampling=\"linear\")\n",
    "        channel_shift_range = hp.Int(\"channel_shift_range\",min_value=0,max_value=30,step=10)\n",
    "\n",
    "        train_generator = ImageDataGenerator(rotation_range=360,\n",
    "                                            zoom_range =zoom_range,\n",
    "                                            horizontal_flip = True,\n",
    "                                            validation_split =0.2,\n",
    "                                            channel_shift_range =channel_shift_range\n",
    "                                            )\n",
    "        train_dataset = train_generator.flow_from_directory(batch_size=self.batch_size,\n",
    "                                                            directory=train_root,\n",
    "                                                            shuffle=True,\n",
    "                                                            target_size=(self.input_size,self.input_size),\n",
    "                                                            subset='training')\n",
    "        valid_dataset = train_generator.flow_from_directory(batch_size=self.batch_size,\n",
    "                                                            directory=train_root,\n",
    "                                                            shuffle=True,\n",
    "                                                            target_size=(self.input_size,self.input_size),\n",
    "                                                            subset='validation')\n",
    "        return train_dataset,valid_dataset\n",
    "\n",
    "    def fit(self, hp, model,**kwargs):\n",
    "        \n",
    "        train_dataset,valid_dataset = self.dataset(hp)\n",
    "\n",
    "        return model.fit(\n",
    "            train_dataset,\n",
    "            validation_data=valid_dataset,\n",
    "            **kwargs\n",
    "        ) "
   ]
  },
  {
   "cell_type": "code",
   "execution_count": 6,
   "metadata": {},
   "outputs": [
    {
     "name": "stdout",
     "output_type": "stream",
     "text": [
      "Trial 50 Complete [00h 00m 24s]\n",
      "val_accuracy: 0.8133047223091125\n",
      "\n",
      "Best val_accuracy So Far: 0.8476395010948181\n",
      "Total elapsed time: 00h 23m 59s\n",
      "INFO:tensorflow:Oracle triggered exit\n"
     ]
    }
   ],
   "source": [
    "tuner = keras_tuner.BayesianOptimization(\n",
    "    hypermodel =HyperMobilenet_v2(input_size=128,batch_size=128,train_root='./train/'),\n",
    "    objective=\"val_accuracy\",\n",
    "    max_trials=50,\n",
    "    overwrite=True,\n",
    "    directory=\"my_dir\",\n",
    "    project_name=\"tune_hypermodel\",\n",
    ")\n",
    "tuner.search(epochs=10,workers=8)"
   ]
  },
  {
   "cell_type": "code",
   "execution_count": null,
   "metadata": {},
   "outputs": [],
   "source": [
    "tuner.results_summary()"
   ]
  },
  {
   "cell_type": "code",
   "execution_count": 20,
   "metadata": {},
   "outputs": [],
   "source": [
    "hypermodel = HyperMobilenet_v2(input_size=128,batch_size=128,train_root='./train/')\n",
    "best_hp = tuner.get_best_hyperparameters()[0]\n",
    "model = hypermodel.build(best_hp)"
   ]
  },
  {
   "cell_type": "code",
   "execution_count": null,
   "metadata": {},
   "outputs": [],
   "source": [
    "import time\n",
    "import os\n",
    "save_path = './models_save/%s' % (time.strftime('%Y_%m_%d_%H_%M_%S'))\n",
    "reduce_lr = keras.callbacks.ReduceLROnPlateau(monitor='val_loss', factor=0.2,patience=10,verbose=1)\n",
    "early_stop =keras.callbacks.EarlyStopping(monitor='val_accuracy', patience=15,verbose=1)\n",
    "save_weights = keras.callbacks.ModelCheckpoint(save_path + \"/model_{epoch:02d}_{val_accuracy:.4f}.h5\",\n",
    "                                                   save_best_only=True, monitor='val_accuracy')\n",
    "\n",
    "hypermodel.fit(\n",
    "    best_hp, \n",
    "    model,\n",
    "    epochs=100,\n",
    "    workers =8,\n",
    "    callbacks=[save_weights,early_stop,reduce_lr]\n",
    "    )"
   ]
  }
 ],
 "metadata": {
  "kernelspec": {
   "display_name": "tf2",
   "language": "python",
   "name": "python3"
  },
  "language_info": {
   "codemirror_mode": {
    "name": "ipython",
    "version": 3
   },
   "file_extension": ".py",
   "mimetype": "text/x-python",
   "name": "python",
   "nbconvert_exporter": "python",
   "pygments_lexer": "ipython3",
   "version": "3.8.15 (default, Nov 24 2022, 14:38:14) [MSC v.1916 64 bit (AMD64)]"
  },
  "orig_nbformat": 4,
  "vscode": {
   "interpreter": {
    "hash": "738be953785d66106b8e18111e09a691aebc73398edfc8fb020807bf5719e688"
   }
  }
 },
 "nbformat": 4,
 "nbformat_minor": 2
}
