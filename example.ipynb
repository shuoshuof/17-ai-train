{
 "cells": [
  {
   "cell_type": "code",
   "execution_count": 1,
   "metadata": {},
   "outputs": [],
   "source": [
    "from tensorflow import keras\n"
   ]
  },
  {
   "attachments": {},
   "cell_type": "markdown",
   "metadata": {},
   "source": [
    "## 定义网络"
   ]
  },
  {
   "cell_type": "code",
   "execution_count": 2,
   "metadata": {},
   "outputs": [],
   "source": [
    "def Mobilenet_v2(input_size,weights,Dropout_rate,Trainable,alpha = 0.35):\n",
    "    base_model = keras.applications.MobileNetV2(\n",
    "        input_shape=(input_size, input_size, 3),\n",
    "        alpha=alpha,\n",
    "        weights=weights,\n",
    "        include_top=False\n",
    "    )\n",
    "    inputs = keras.Input(shape=(input_size, input_size,3))\n",
    "\n",
    "    scale_layer = keras.layers.Rescaling(scale=1 / 127.5, offset=-1)\n",
    "    x = scale_layer(inputs)\n",
    "    x = base_model(x, training=False)\n",
    "    if Trainable:\n",
    "        base_model.trainable =True\n",
    "    else:\n",
    "        base_model.trainable = False\n",
    "        print(\"特征层已冻结\")\n",
    "    x = keras.layers.GlobalAveragePooling2D()(x)\n",
    "    x = keras.layers.Dropout(Dropout_rate, name='Dropout')(x)\n",
    "    outputs = keras.layers.Dense(15, activation='softmax')(x)\n",
    "    model = keras.Model(inputs, outputs)\n",
    "    return model"
   ]
  },
  {
   "attachments": {},
   "cell_type": "markdown",
   "metadata": {},
   "source": [
    "## 设定超参数"
   ]
  },
  {
   "cell_type": "code",
   "execution_count": 3,
   "metadata": {},
   "outputs": [],
   "source": [
    "epochs = 100\n",
    "input_size=128\n",
    "lr =0.0001\n",
    "Dropout_rate=0.3\n",
    "batch_size =128"
   ]
  },
  {
   "cell_type": "code",
   "execution_count": 4,
   "metadata": {},
   "outputs": [
    {
     "name": "stdout",
     "output_type": "stream",
     "text": [
      "Model: \"model\"\n",
      "_________________________________________________________________\n",
      " Layer (type)                Output Shape              Param #   \n",
      "=================================================================\n",
      " input_2 (InputLayer)        [(None, 128, 128, 3)]     0         \n",
      "                                                                 \n",
      " rescaling (Rescaling)       (None, 128, 128, 3)       0         \n",
      "                                                                 \n",
      " mobilenetv2_0.35_128 (Funct  (None, 4, 4, 1280)       410208    \n",
      " ional)                                                          \n",
      "                                                                 \n",
      " global_average_pooling2d (G  (None, 1280)             0         \n",
      " lobalAveragePooling2D)                                          \n",
      "                                                                 \n",
      " Dropout (Dropout)           (None, 1280)              0         \n",
      "                                                                 \n",
      " dense (Dense)               (None, 15)                19215     \n",
      "                                                                 \n",
      "=================================================================\n",
      "Total params: 429,423\n",
      "Trainable params: 415,343\n",
      "Non-trainable params: 14,080\n",
      "_________________________________________________________________\n"
     ]
    }
   ],
   "source": [
    "model = Mobilenet_v2(input_size,weights='imagenet',Dropout_rate=Dropout_rate,Trainable=True)\n",
    "model.summary()"
   ]
  },
  {
   "attachments": {},
   "cell_type": "markdown",
   "metadata": {},
   "source": [
    "## 读取数据集"
   ]
  },
  {
   "cell_type": "code",
   "execution_count": 5,
   "metadata": {},
   "outputs": [
    {
     "name": "stdout",
     "output_type": "stream",
     "text": [
      "Found 1903 images belonging to 15 classes.\n",
      "Found 466 images belonging to 15 classes.\n",
      "{'大客车': 0, '小汽车': 1, '榴莲': 2, '橙子': 3, '火车': 4, '牛': 5, '狗': 6, '猪': 7, '猫': 8, '苹果': 9, '葡萄': 10, '轮船': 11, '飞机': 12, '香蕉': 13, '马': 14}\n"
     ]
    }
   ],
   "source": [
    "from tensorflow.keras.preprocessing.image import ImageDataGenerator\n",
    "\n",
    "train_root = \"./train/\"\n",
    "\n",
    "train_generator = ImageDataGenerator(rotation_range=360,\n",
    "                                     zoom_range  =0.2,\n",
    "                                     horizontal_flip = True,\n",
    "                                     validation_split =0.2\n",
    "                                     )\n",
    "train_dataset = train_generator.flow_from_directory(batch_size=batch_size,\n",
    "                                                    directory=train_root,\n",
    "                                                    shuffle=True,\n",
    "                                                    target_size=(input_size,input_size),\n",
    "                                                    subset='training')\n",
    "valid_dataset = train_generator.flow_from_directory(batch_size=batch_size,\n",
    "                                                   directory=train_root,\n",
    "                                                    shuffle=True,\n",
    "                                                    target_size=(input_size,input_size),\n",
    "                                                    subset='validation')\n",
    "print(train_dataset.class_indices)"
   ]
  },
  {
   "cell_type": "code",
   "execution_count": 6,
   "metadata": {},
   "outputs": [],
   "source": [
    "model.compile(optimizer=keras.optimizers.Adam(learning_rate=lr),\n",
    "              loss=keras.losses.CategoricalCrossentropy(),\n",
    "              metrics=[\"accuracy\"])\n"
   ]
  },
  {
   "cell_type": "code",
   "execution_count": null,
   "metadata": {},
   "outputs": [],
   "source": [
    "\n",
    "import time\n",
    "import os\n",
    "save_path = './models_save/%s' % (time.strftime('%Y_%m_%d_%H_%M_%S'))\n",
    "\n",
    "reduce_lr = keras.callbacks.ReduceLROnPlateau(monitor='val_loss', factor=0.2,patience=10,verbose=1)\n",
    "early_stop =keras.callbacks.EarlyStopping(monitor='val_accuracy', patience=10,verbose=1)\n",
    "save_weights = keras.callbacks.ModelCheckpoint(save_path + \"/model_{epoch:02d}_{val_accuracy:.4f}.h5\",\n",
    "                                                   save_best_only=True, monitor='val_accuracy')\n",
    "hist = model.fit(train_dataset, \n",
    "                 epochs=epochs,\n",
    "                 validation_data=valid_dataset,\n",
    "                  callbacks=[save_weights,early_stop,reduce_lr]\n",
    "                 )"
   ]
  },
  {
   "cell_type": "code",
   "execution_count": null,
   "metadata": {},
   "outputs": [],
   "source": [
    "import matplotlib.pyplot as plt\n",
    "import pandas as pd\n",
    "plt.figure()\n",
    "plt.plot(hist.history['accuracy'])\n",
    "plt.plot(hist.history['val_accuracy'])\n",
    "plt.title('Model accuracy')\n",
    "plt.ylabel('Accuracy')\n",
    "plt.xlabel('Epoch')\n",
    "plt.legend(['Train', 'Test'], loc='upper left')\n",
    "plt.savefig(f'{save_path}/acc')\n",
    "\n",
    "# 绘制训练 & 验证的损失值\n",
    "plt.figure()\n",
    "plt.plot(hist.history['loss'])\n",
    "plt.plot(hist.history['val_loss'])\n",
    "plt.title('Model loss')\n",
    "plt.ylabel('Loss')\n",
    "plt.xlabel('Epoch')\n",
    "plt.legend(['Train', 'Test'], loc='upper left')\n",
    "plt.savefig(f'{save_path}/loss')\n",
    "\n",
    "df = pd.DataFrame.from_dict(hist.history)\n",
    "df.to_csv(f'{save_path}/hist.csv', encoding='utf-8', index=False)"
   ]
  },
  {
   "cell_type": "code",
   "execution_count": 43,
   "metadata": {},
   "outputs": [],
   "source": [
    "import matplotlib.pyplot as plt\n",
    "from sklearn.metrics import confusion_matrix\n",
    "import numpy as np\n",
    "import matplotlib\n",
    "font = {'family': 'SimHei', \"size\": 24}\n",
    "matplotlib.rc('font', **font)\n",
    "\n",
    "def get_confusion_matrix(label,y_pred,cls):\n",
    "    Confusion_Matrix = confusion_matrix(label, y_pred)\n",
    "    cls_sum = Confusion_Matrix.sum(axis=0)\n",
    "    Confusion_Matrix = Confusion_Matrix/cls_sum#归一化\n",
    "    print(np.around(Confusion_Matrix,3))\n",
    "    Confusion_Matrix=Confusion_Matrix*255\n",
    "    plt.matshow(Confusion_Matrix, cmap=plt.cm.Greens)\n",
    "    plt.xlabel('predict')\n",
    "    plt.ylabel('true')\n",
    "    xlocations = np.array(range(len(cls)))\n",
    "    print(cls)\n",
    "    print(xlocations)\n",
    "    plt.xticks(xlocations, cls, rotation=0)\n",
    "    plt.yticks(xlocations, cls)\n",
    "    plt.show()"
   ]
  },
  {
   "cell_type": "code",
   "execution_count": 40,
   "metadata": {},
   "outputs": [],
   "source": [
    "import tensorflow as tf\n",
    "from tqdm import tqdm\n",
    "import numpy as np\n",
    "from tensorflow.keras.preprocessing.image import ImageDataGenerator\n",
    "def tflite_pre(modelpath,dataset_root,batch_size=128,input_size = 96):\n",
    "    test_root = dataset_root\n",
    "\n",
    "    valid_generator = ImageDataGenerator()\n",
    "    valid_dataset = valid_generator.flow_from_directory(batch_size=batch_size,\n",
    "                                                        directory=test_root,\n",
    "                                                        shuffle=True,\n",
    "                                                        target_size=(input_size, input_size))\n",
    "    interpreter = tf.lite.Interpreter(model_path=modelpath)\n",
    "\n",
    "    input_index = interpreter.get_input_details()\n",
    "    output_index = interpreter.get_output_details()\n",
    "\n",
    "    acc=0\n",
    "    sum=0\n",
    "    labels=np.array([])\n",
    "    predictions=np.array([])\n",
    "    with tqdm(valid_dataset,desc='test_tflite') as d:\n",
    "        for batch_number, (img, label) in enumerate(d):\n",
    "            batch = len(label)\n",
    "            label = label.argmax(axis=1)\n",
    "            sum += batch\n",
    "            interpreter.resize_tensor_input(input_index[0]['index'], (batch, input_size, input_size, 3))\n",
    "            interpreter.resize_tensor_input(output_index[0]['index'], (batch, 15))\n",
    "            interpreter.allocate_tensors()\n",
    "            interpreter.set_tensor(input_index[0]['index'], np.array(img, dtype=np.float32))\n",
    "            interpreter.invoke()\n",
    "            output = interpreter.get_tensor(output_index[0]['index'])\n",
    "            output = output.argmax(axis=1)\n",
    "            correct_pre = np.where(output == label, 1, 0)\n",
    "            acc += correct_pre.sum()\n",
    "\n",
    "            predictions =np.append(predictions,output)\n",
    "            labels=np.append(labels,label)\n",
    "\n",
    "            if sum >= len(valid_dataset) * batch_size:\n",
    "                break\n",
    "            d.set_postfix(acc = acc/sum)\n",
    "            d.update()\n",
    "    print(\"小类准确率：\", acc / sum)\n",
    "    get_confusion_matrix(labels,predictions,valid_dataset.class_indices)\n",
    "    return acc/sum"
   ]
  },
  {
   "cell_type": "code",
   "execution_count": 41,
   "metadata": {},
   "outputs": [],
   "source": [
    "from tensorflow.keras.models import load_model\n",
    "import json\n",
    "import time\n",
    "import os\n",
    "def convert_to_tf_lite(model_path,valid_input_size,valid_path=None):\n",
    "    model = load_model(model_path)\n",
    "\n",
    "    converter = tf.lite.TFLiteConverter.from_keras_model(model)\n",
    "    converter.post_training_quantize=True\n",
    "    tflite_model = converter.convert()\n",
    "\n",
    "    start_time = time.strftime('%m_%d_%H_%M')\n",
    "    name = model_path.split('/')[-1][:-3]\n",
    "\n",
    "    save_root = \"./tflite_model/%s_\" % start_time +'_' + name\n",
    "    os.mkdir(save_root)\n",
    "\n",
    "    save_path = save_root+\"/\"+str(valid_input_size)+name+'.tflite'\n",
    "\n",
    "    with open(save_path, 'wb') as f:\n",
    "        f.write(tflite_model)\n",
    "    if valid_path!=None:\n",
    "        acc = tflite_pre(modelpath=save_path,\n",
    "                         dataset_root=valid_path,\n",
    "                         input_size=valid_input_size)\n",
    "        remark = {'model_path':model_path,'input_size':valid_input_size,'valid_path':valid_path,'acc':acc}\n",
    "        with open(save_root+\"/remark.json\",'w',encoding='utf-8') as f:\n",
    "            json.dump(remark,f)"
   ]
  },
  {
   "cell_type": "code",
   "execution_count": 44,
   "metadata": {},
   "outputs": [
    {
     "name": "stderr",
     "output_type": "stream",
     "text": [
      "WARNING:absl:Found untraced functions such as _jit_compiled_convolution_op, _jit_compiled_convolution_op, _jit_compiled_convolution_op, _jit_compiled_convolution_op, _jit_compiled_convolution_op while saving (showing 5 of 52). These functions will not be directly callable after loading.\n"
     ]
    },
    {
     "name": "stdout",
     "output_type": "stream",
     "text": [
      "INFO:tensorflow:Assets written to: C:\\Users\\shuoshuo\\AppData\\Local\\Temp\\tmp8rzlxwij\\assets\n"
     ]
    },
    {
     "name": "stderr",
     "output_type": "stream",
     "text": [
      "INFO:tensorflow:Assets written to: C:\\Users\\shuoshuo\\AppData\\Local\\Temp\\tmp8rzlxwij\\assets\n"
     ]
    },
    {
     "name": "stdout",
     "output_type": "stream",
     "text": [
      "Found 2369 images belonging to 15 classes.\n"
     ]
    },
    {
     "name": "stderr",
     "output_type": "stream",
     "text": [
      "test_tflite: 100%|██████████| 19/19 [00:07<00:00,  2.43it/s, acc=0.931]"
     ]
    },
    {
     "name": "stdout",
     "output_type": "stream",
     "text": [
      "小类准确率： 0.9287144573488186\n",
      "[[0.879 0.026 0.    0.    0.    0.    0.    0.    0.    0.    0.    0.005\n",
      "  0.    0.    0.   ]\n",
      " [0.096 0.963 0.    0.    0.024 0.    0.    0.    0.    0.    0.    0.\n",
      "  0.    0.    0.   ]\n",
      " [0.    0.    1.    0.    0.    0.    0.    0.    0.    0.    0.    0.\n",
      "  0.    0.    0.   ]\n",
      " [0.    0.    0.    0.928 0.    0.    0.    0.    0.    0.    0.007 0.\n",
      "  0.    0.    0.   ]\n",
      " [0.019 0.005 0.    0.    0.971 0.    0.    0.    0.    0.    0.    0.102\n",
      "  0.005 0.    0.   ]\n",
      " [0.    0.    0.    0.    0.    0.87  0.015 0.037 0.011 0.    0.    0.\n",
      "  0.    0.    0.085]\n",
      " [0.    0.    0.    0.    0.    0.015 0.878 0.    0.061 0.    0.    0.009\n",
      "  0.    0.    0.024]\n",
      " [0.    0.    0.    0.    0.    0.038 0.01  0.917 0.    0.    0.    0.\n",
      "  0.    0.    0.012]\n",
      " [0.    0.    0.    0.    0.    0.031 0.083 0.046 0.928 0.    0.    0.\n",
      "  0.    0.    0.049]\n",
      " [0.    0.    0.    0.072 0.    0.    0.    0.    0.    0.993 0.    0.\n",
      "  0.    0.    0.   ]\n",
      " [0.006 0.    0.    0.    0.    0.    0.    0.    0.    0.007 0.993 0.\n",
      "  0.    0.006 0.   ]\n",
      " [0.    0.    0.    0.    0.005 0.008 0.    0.    0.    0.    0.    0.819\n",
      "  0.005 0.    0.   ]\n",
      " [0.    0.    0.    0.    0.    0.    0.    0.    0.    0.    0.    0.065\n",
      "  0.989 0.    0.   ]\n",
      " [0.    0.    0.    0.    0.    0.    0.    0.    0.    0.    0.    0.\n",
      "  0.    0.994 0.   ]\n",
      " [0.    0.005 0.    0.    0.    0.038 0.015 0.    0.    0.    0.    0.\n",
      "  0.    0.    0.829]]\n",
      "{'大客车': 0, '小汽车': 1, '榴莲': 2, '橙子': 3, '火车': 4, '牛': 5, '狗': 6, '猪': 7, '猫': 8, '苹果': 9, '葡萄': 10, '轮船': 11, '飞机': 12, '香蕉': 13, '马': 14}\n",
      "[ 0  1  2  3  4  5  6  7  8  9 10 11 12 13 14]\n"
     ]
    },
    {
     "name": "stderr",
     "output_type": "stream",
     "text": [
      "\n"
     ]
    },
    {
     "data": {
      "image/png": "[encoded data removed]",
      "text/plain": [
       "<Figure size 550x550 with 1 Axes>"
      ]
     },
     "metadata": {},
     "output_type": "display_data"
    }
   ],
   "source": [
    "convert_to_tf_lite(model_path='./models_save/2023_01_03_18_11_12/model_27_0.8948.h5',\n",
    "                   valid_input_size=input_size,\n",
    "                   valid_path='./train')"
   ]
  }
 ],
 "metadata": {
  "kernelspec": {
   "display_name": "tf2",
   "language": "python",
   "name": "python3"
  },
  "language_info": {
   "codemirror_mode": {
    "name": "ipython",
    "version": 3
   },
   "file_extension": ".py",
   "mimetype": "text/x-python",
   "name": "python",
   "nbconvert_exporter": "python",
   "pygments_lexer": "ipython3",
   "version": "3.8.15 (default, Nov 24 2022, 14:38:14) [MSC v.1916 64 bit (AMD64)]"
  },
  "orig_nbformat": 4,
  "vscode": {
   "interpreter": {
    "hash": "738be953785d66106b8e18111e09a691aebc73398edfc8fb020807bf5719e688"
   }
  }
 },
 "nbformat": 4,
 "nbformat_minor": 2
}
